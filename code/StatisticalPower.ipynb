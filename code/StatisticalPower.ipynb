{
  "metadata": {
    "kernelspec": {
      "name": "python",
      "display_name": "Python (Pyodide)",
      "language": "python"
    },
    "language_info": {
      "codemirror_mode": {
        "name": "python",
        "version": 3
      },
      "file_extension": ".py",
      "mimetype": "text/x-python",
      "name": "python",
      "nbconvert_exporter": "python",
      "pygments_lexer": "ipython3",
      "version": "3.8"
    }
  },
  "nbformat_minor": 4,
  "nbformat": 4,
  "cells": [
    {
      "cell_type": "markdown",
      "source": "# ======================= Example 6.4 ========================#",
      "metadata": {}
    },
    {
      "cell_type": "code",
      "source": "import numpy as np\nfrom scipy.stats import norm\n\n\ndef Testing(n, p_true, p0, alpha):\n    # p_true is the true value\n    sample = np.random.binomial(1, p_true, n)\n    p_hat = np.mean(sample)\n    test_stat = (p_hat - p0) / np.sqrt(p0 * (1 - p0) / n)\n    # the alternative hypothesis is one-sided, right-tailed\n    z_alpha = norm.ppf(1 - alpha) # ppf is the inverse of CDF\n    if test_stat > z_alpha:\n        return 1 # reject\n    else:\n        return 0 # fail to reject\n    ",
      "metadata": {
        "trusted": true
      },
      "outputs": [],
      "execution_count": 28
    },
    {
      "cell_type": "markdown",
      "source": "## First consider the case when p_true = 0.02, p0 = 0.02",
      "metadata": {}
    },
    {
      "cell_type": "code",
      "source": "np.random.seed(20241225)\nrep = 10000\ncnt = 0\n\nn = 1000 # if sample size is only 1000\n\nfor i in range(rep):\n    cnt = cnt + Testing(n, 0.025, 0.02, 0.05)\n    power = cnt / rep\n\nprint(\"When the sample size is %s:\" % n)\nprint(\"\\t number of times fail to reject: %s\" % (rep - cnt))\nprint(\"\\t power of the test: %.4f\" % (cnt / rep))",
      "metadata": {
        "trusted": true
      },
      "outputs": [
        {
          "name": "stdout",
          "text": "When the sample size is 1000:\n\t number of times fail to reject: 7055\n\t power of the test: 0.2945\n",
          "output_type": "stream"
        }
      ],
      "execution_count": 29
    },
    {
      "cell_type": "code",
      "source": "np.random.seed(20241225)\ncnt = 0\nn = 7000 # if sample size is 7000\n\nfor i in range(rep):\n    cnt = cnt + Testing(n, 0.025, 0.02, 0.05)\n    power = cnt / rep\n\nprint(\"When the sample size is %s:\" % n)\nprint(\"\\t number of times fail to reject: %s\" % (rep - cnt))\nprint(\"\\t power of the test: %.4f\" % (cnt / rep))\n# 7000 is still not enough",
      "metadata": {
        "trusted": true
      },
      "outputs": [
        {
          "name": "stdout",
          "text": "When the sample size is 7000:\n\t number of times fail to reject: 1310\n\t power of the test: 0.8690\n",
          "output_type": "stream"
        }
      ],
      "execution_count": 21
    },
    {
      "cell_type": "code",
      "source": "np.random.seed(20241225)\ncnt = 0\nn = 7412 # if sample size is 7412\n\nfor i in range(rep):\n    cnt = cnt + Testing(n, 0.025, 0.02, 0.05)\n    power = cnt / rep\n\nprint(\"When the sample size is %s:\" % n)\nprint(\"\\t number of times fail to reject: %s\" % (rep - cnt))\nprint(\"\\t power of the test: %.4f\" % (cnt / rep))",
      "metadata": {
        "trusted": true
      },
      "outputs": [
        {
          "name": "stdout",
          "text": "When the sample size is 7412:\n\t number of times fail to reject: 1024\n\t power of the test: 0.8976\n",
          "output_type": "stream"
        }
      ],
      "execution_count": 32
    },
    {
      "cell_type": "markdown",
      "source": "## Then consider the case when p_true = 0.05, p0 = 0.02",
      "metadata": {}
    },
    {
      "cell_type": "code",
      "source": "np.random.seed(20241225)\nrep = 10000\ncnt = 0\n\nn = 200 # if sample size is only 200\n\nfor i in range(rep):\n    cnt = cnt + Testing(n, 0.05, 0.02, 0.05)\n    power = cnt / rep\n\nprint(\"When the sample size is %s:\" % n)\nprint(\"\\t number of times fail to reject: %s\" % (rep - cnt))\nprint(\"\\t power of the test: %.4f\" % (cnt / rep))\n# 200 is not enough",
      "metadata": {
        "trusted": true
      },
      "outputs": [
        {
          "name": "stdout",
          "text": "When the sample size is 200:\n\t number of times fail to reject: 2106\n\t power of the test: 0.7894\n",
          "output_type": "stream"
        }
      ],
      "execution_count": 48
    },
    {
      "cell_type": "code",
      "source": "np.random.seed(20241225)\nrep = 10000\ncnt = 0\n\nn = 288 # if sample size is 288\n\nfor i in range(rep):\n    cnt = cnt + Testing(n, 0.05, 0.02, 0.05)\n    power = cnt / rep\n\nprint(\"When the sample size is %s:\" % n)\nprint(\"\\t number of times fail to reject: %s\" % (rep - cnt))\nprint(\"\\t power of the test: %.4f\" % (cnt / rep))",
      "metadata": {
        "trusted": true
      },
      "outputs": [
        {
          "name": "stdout",
          "text": "When the sample size is 288:\n\t number of times fail to reject: 897\n\t power of the test: 0.9103\n",
          "output_type": "stream"
        }
      ],
      "execution_count": 46
    },
    {
      "cell_type": "markdown",
      "source": "## If alpha is larger, how would the power change?",
      "metadata": {}
    },
    {
      "cell_type": "code",
      "source": "np.random.seed(20241225)\nrep = 10000\ncnt = 0\nalpha = 0.1 # alpha is increased from 0.05 to 0.1\n\nn = 200 # if sample size is only 200\n\nfor i in range(rep):\n    cnt = cnt + Testing(n, 0.05, 0.02, alpha)\n    power = cnt / rep\n\nprint(\"When the sample size is %s:\" % n)\nprint(\"\\t number of times fail to reject: %s\" % (rep - cnt))\nprint(\"\\t power of the test: %.4f\" % (cnt / rep))",
      "metadata": {
        "trusted": true
      },
      "outputs": [
        {
          "name": "stdout",
          "text": "When the sample size is 200:\n\t number of times fail to reject: 1233\n\t power of the test: 0.8767\n",
          "output_type": "stream"
        }
      ],
      "execution_count": 54
    },
    {
      "cell_type": "markdown",
      "source": "# ======================= Example 6.5 ========================",
      "metadata": {}
    },
    {
      "cell_type": "code",
      "source": "def Testing2(n, mu_true, mu0, alpha):\n    # p_true is the true value\n    sample = np.random.normal(mu_true, 15, n) # standard deviation is 15\n    mu_hat = np.mean(sample)\n    test_stat = (mu_hat - mu0) / np.sqrt(15 ** 2 / n)\n    # the alternative hypothesis is one-sided, right-tailed\n    z_alpha = norm.ppf(1 - alpha) # ppf is the inverse of CDF\n    if test_stat > z_alpha:\n        return 1 # reject\n    else:\n        return 0 # fail to reject",
      "metadata": {
        "trusted": true
      },
      "outputs": [],
      "execution_count": 52
    },
    {
      "cell_type": "markdown",
      "source": "## Consider the case when mu_true = 105, mu0 = 100",
      "metadata": {}
    },
    {
      "cell_type": "code",
      "source": "np.random.seed(20241225)\nrep = 10000\ncnt = 0\n\nn = 78 # if sample size is 78\n\nfor i in range(rep):\n    cnt = cnt + Testing2(n, 105, 100, 0.05)\n    power = cnt / rep\n\nprint(\"When the sample size is %s:\" % n)\nprint(\"\\t number of times fail to reject: %s\" % (rep - cnt))\nprint(\"\\t power of the test: %.4f\" % (cnt / rep))",
      "metadata": {
        "trusted": true
      },
      "outputs": [
        {
          "name": "stdout",
          "text": "When the sample size is 78:\n\t number of times fail to reject: 983\n\t power of the test: 0.9017\n",
          "output_type": "stream"
        }
      ],
      "execution_count": 53
    },
    {
      "cell_type": "code",
      "source": "np.random.seed(20241225)\nrep = 10000\ncnt = 0\n\nn = 70 # if sample size is only 70\n\nfor i in range(rep):\n    cnt = cnt + Testing2(n, 105, 100, 0.05)\n    power = cnt / rep\n\nprint(\"When the sample size is %s:\" % n)\nprint(\"\\t number of times fail to reject: %s\" % (rep - cnt))\nprint(\"\\t power of the test: %.4f\" % (cnt / rep))",
      "metadata": {
        "trusted": true
      },
      "outputs": [
        {
          "name": "stdout",
          "text": "When the sample size is 70:\n\t number of times fail to reject: 1254\n\t power of the test: 0.8746\n",
          "output_type": "stream"
        }
      ],
      "execution_count": 55
    },
    {
      "cell_type": "code",
      "source": "",
      "metadata": {
        "trusted": true
      },
      "outputs": [],
      "execution_count": null
    }
  ]
}